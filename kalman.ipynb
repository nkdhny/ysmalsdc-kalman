{
 "cells": [
  {
   "cell_type": "code",
   "execution_count": 27,
   "metadata": {},
   "outputs": [],
   "source": [
    "from robot import robot\n",
    "from measurer import global_measurer\n",
    "\n",
    "import numpy as np\n",
    "from matplotlib import pyplot as plt\n",
    "from matplotlib.patches import Ellipse\n",
    "from IPython import display\n",
    "import time\n",
    "from matplotlib.lines import Line2D\n",
    "    \n",
    "%matplotlib inline"
   ]
  },
  {
   "cell_type": "code",
   "execution_count": 2,
   "metadata": {},
   "outputs": [],
   "source": [
    "class Kalman(object):\n",
    "    def __init__(self, measure_noise=1, control_noise=(0.1, 0.1)):\n",
    "        self.position_mu = np.zeros(2)\n",
    "        self.position_sigma = np.eye(2) * 100\n",
    "        \n",
    "        self.last_measure_time = 0\n",
    "        \n",
    "        self.measure_noise = measure_noise\n",
    "        self.control_noise = control_noise\n",
    "        \n",
    "    def _A(self, t):\n",
    "        return np.eye(2)\n",
    "    \n",
    "    def _B(self, t):\n",
    "        return np.eye(2) * (t - self.last_measure_time)\n",
    "    \n",
    "    def _R(self, t):\n",
    "        R = np.eye(2)\n",
    "        R[0, 0] *= self.control_noise[0]**2\n",
    "        R[1, 1] *= self.control_noise[1]**2\n",
    "        \n",
    "        return R\n",
    "    \n",
    "    def _C(self, t):\n",
    "        return np.eye(2)\n",
    "    \n",
    "    def _Q(self, t):\n",
    "        return np.eye(2) * self.measure_noise**2\n",
    "        \n",
    "    def predict(self, robot_velocity, t):\n",
    "        predicted_mu = self._A(t).dot(self.position_mu) + self._B(t).dot(robot_velocity)\n",
    "        predicted_sigma = self._A(t).dot(self.position_sigma).dot(self._A(t).T) + self._R(t)\n",
    "        \n",
    "        self.position_mu = predicted_mu\n",
    "        self.position_sigma = predicted_sigma\n",
    "    \n",
    "    def update(self, position, t):\n",
    "        K_t = self.position_sigma.dot(self._C(t).T).dot(\n",
    "            np.linalg.inv(\n",
    "                self._C(t).dot(self.position_sigma).dot(self._C(t)) + self._Q(t)\n",
    "            ))\n",
    "        \n",
    "        self.position_mu = self.position_mu + K_t.dot(position - self._C(t).dot(self.position_mu))\n",
    "        self.position_sigma = (np.eye(2) - K_t.dot(self._C(t))).dot(self.position_sigma)\n",
    "        self.last_measure_time = t"
   ]
  },
  {
   "cell_type": "code",
   "execution_count": 9,
   "metadata": {},
   "outputs": [],
   "source": [
    "def draw_position(position, covariance, color='black', ax=None):\n",
    "    \"\"\"\n",
    "    Confidence ellipse of 3 sigma\n",
    "    \"\"\"\n",
    "    lambda_, v = np.linalg.eig(covariance)\n",
    "    lambda_ = np.sqrt(lambda_)\n",
    "    \n",
    "    if ax is None:\n",
    "        ax = plt.subplot(111, aspect='equal')\n",
    "\n",
    "    ell = Ellipse(xy=(position),\n",
    "                  width=lambda_[0]*2, height=lambda_[1]*2,\n",
    "                  angle=np.rad2deg(np.arccos(v[0, 0])))\n",
    "    \n",
    "    ell.set_facecolor('none')\n",
    "    ell.set_edgecolor(color)\n",
    "    ax.add_artist(ell)\n",
    "    \n",
    "    ax.set_xlim(-7, 7)\n",
    "    ax.set_ylim(-7, 7)\n",
    "    \n",
    "    \n",
    "    ax.scatter(position[0], position[1], c=color)\n",
    "    return ax"
   ]
  },
  {
   "cell_type": "code",
   "execution_count": 29,
   "metadata": {},
   "outputs": [],
   "source": [
    "r = robot.Robot(pos=np.array((-7, 0)), vel=np.array((0.5, 0.1)), odometer_noise_x=0.5, odometer_noise_y=0.1)\n",
    "m = global_measurer.GlobalMeasurer(noise=0.3)\n",
    "k = Kalman(control_noise=(0.5, 0.1), measure_noise=0.3)\n",
    "\n",
    "dt = 0.5\n",
    "t = 0"
   ]
  },
  {
   "cell_type": "code",
   "execution_count": 30,
   "metadata": {},
   "outputs": [
    {
     "data": {
      "image/png": "[encoded data removed]",
      "text/plain": [
       "<matplotlib.figure.Figure at 0x7f12dfaeef50>"
      ]
     },
     "metadata": {},
     "output_type": "display_data"
    }
   ],
   "source": [
    "\n",
    "fig = plt.figure(figsize=(15, 15))\n",
    "ax = plt.subplot(111, aspect='equal')\n",
    "\n",
    "custom_lines = [Line2D([0], [0], color='red', lw=4),\n",
    "                Line2D([0], [0], color='blue', lw=4),\n",
    "                Line2D([0], [0], color='black', lw=4),\n",
    "                Line2D([0], [0], color='green', lw=4)]\n",
    "\n",
    "\n",
    "real_track = []\n",
    "measured_track = []\n",
    "kalman_track = []\n",
    "\n",
    "for i in range(40):\n",
    "    ax.clear()\n",
    "    \n",
    "    ax.legend(custom_lines, ['Kalman', 'Prediction', 'Measurement', 'Real position'])\n",
    "    \n",
    "    k.predict(r.velocity(), t)\n",
    "    draw_position(k.position_mu, k.position_sigma, ax=ax, color='blue')\n",
    "    pos = m.measure(r)\n",
    "    draw_position(pos, np.eye(2) * k.measure_noise**2, ax=ax)\n",
    "    \n",
    "    k.update(pos, t)\n",
    "    draw_position(k.position_mu, k.position_sigma, ax=ax, color='red')\n",
    "    ax.scatter(r.state_[0], r.state_[1], marker='x', color='green')\n",
    "    t += dt\n",
    "    r.move(dt)\n",
    "    \n",
    "    real_track.append((r.state_[0], r.state_[1]))\n",
    "    measured_track.append(pos)\n",
    "    kalman_track.append(k.position_mu)\n",
    "    \n",
    "    display.clear_output(wait=True)\n",
    "    display.display(plt.gcf())\n",
    "    time.sleep(1.0)\n",
    "\n",
    "display.clear_output(wait=True)\n"
   ]
  },
  {
   "cell_type": "code",
   "execution_count": 37,
   "metadata": {},
   "outputs": [
    {
     "data": {
      "text/plain": [
       "<matplotlib.legend.Legend at 0x7f12dfea1890>"
      ]
     },
     "execution_count": 37,
     "metadata": {},
     "output_type": "execute_result"
    },
    {
     "data": {
      "image/png": "[encoded data removed]",
      "text/plain": [
       "<matplotlib.figure.Figure at 0x7f12df788190>"
      ]
     },
     "metadata": {},
     "output_type": "display_data"
    }
   ],
   "source": [
    "measured_track = np.array(measured_track)\n",
    "real_track = np.array(real_track)\n",
    "kalman_track = np.array(kalman_track)\n",
    "\n",
    "plt.figure(figsize=(10, 10))\n",
    "plt.subplot(111, aspect='equal')\n",
    "plt.plot(measured_track[:, 0], measured_track[:, 1], '.', c=\"black\", label='Measurement')\n",
    "plt.plot(kalman_track[:, 0], kalman_track[:, 1], 'r.', label=\"Kalman\")\n",
    "plt.plot(real_track[:, 0], real_track[:, 1], 'gx', label=\"Real position\")\n",
    "plt.legend()"
   ]
  }
 ],
 "metadata": {
  "kernelspec": {
   "display_name": "Python 2",
   "language": "python",
   "name": "python2"
  },
  "language_info": {
   "codemirror_mode": {
    "name": "ipython",
    "version": 2
   },
   "file_extension": ".py",
   "mimetype": "text/x-python",
   "name": "python",
   "nbconvert_exporter": "python",
   "pygments_lexer": "ipython2",
   "version": "2.7.13"
  }
 },
 "nbformat": 4,
 "nbformat_minor": 2
}
